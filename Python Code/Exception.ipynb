{
 "cells": [
  {
   "cell_type": "markdown",
   "metadata": {},
   "source": [
    "### Handling File not found Exception"
   ]
  },
  {
   "cell_type": "code",
   "execution_count": 1,
   "metadata": {},
   "outputs": [
    {
     "name": "stdout",
     "output_type": "stream",
     "text": [
      "[Errno 2] No such file or directory: 'C:\\\\Users\\\\acer\\\\Desktop\\\\Mid Term\\\\Online Assessment\\\\TMC-404\\\\ram.txt'\n"
     ]
    }
   ],
   "source": [
    "\n",
    "try:\n",
    "    file = open('C:\\\\Users\\\\acer\\\\Desktop\\\\Mid Term\\\\Online Assessment\\\\TMC-404\\\\ram.txt',\"r\")\n",
    "except Exception as w:\n",
    "    print(w)\n",
    "\n"
   ]
  },
  {
   "cell_type": "code",
   "execution_count": 4,
   "metadata": {},
   "outputs": [
    {
     "name": "stdout",
     "output_type": "stream",
     "text": [
      "23\n",
      "coool\n"
     ]
    }
   ],
   "source": [
    "class AgeException(Exception):\n",
    "    pass\n",
    "def verify_age(age):\n",
    "    if(int(age)<=0):\n",
    "        raise AgeException\n",
    "    else:\n",
    "        print(\"coool\")\n",
    "n =int(input())\n",
    "verify_age(n)"
   ]
  },
  {
   "cell_type": "code",
   "execution_count": null,
   "metadata": {},
   "outputs": [],
   "source": []
  }
 ],
 "metadata": {
  "kernelspec": {
   "display_name": "Python 3",
   "language": "python",
   "name": "python3"
  },
  "language_info": {
   "codemirror_mode": {
    "name": "ipython",
    "version": 3
   },
   "file_extension": ".py",
   "mimetype": "text/x-python",
   "name": "python",
   "nbconvert_exporter": "python",
   "pygments_lexer": "ipython3",
   "version": "3.7.0"
  }
 },
 "nbformat": 4,
 "nbformat_minor": 4
}
