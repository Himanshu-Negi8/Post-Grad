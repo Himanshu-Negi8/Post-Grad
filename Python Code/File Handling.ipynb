{
 "cells": [
  {
   "cell_type": "markdown",
   "metadata": {},
   "source": [
    "###  Counting the number of character in File"
   ]
  },
  {
   "cell_type": "code",
   "execution_count": 37,
   "metadata": {},
   "outputs": [
    {
     "data": {
      "text/plain": [
       "38"
      ]
     },
     "execution_count": 37,
     "metadata": {},
     "output_type": "execute_result"
    }
   ],
   "source": [
    "file = open('C:\\\\Users\\\\acer\\\\Desktop\\\\Mid Term\\\\Online Assessment\\\\TMC-404\\\\a.txt',\"r\")\n",
    "word= file.read()\n",
    "\n",
    "char =0\n",
    "for i in word:\n",
    "    if(i==\" \" or i==\"\\n\"):\n",
    "        pass\n",
    "    else:\n",
    "        char+=1\n",
    "char"
   ]
  },
  {
   "cell_type": "markdown",
   "metadata": {},
   "source": [
    "### Frequency of  a Particular Character in File"
   ]
  },
  {
   "cell_type": "code",
   "execution_count": 33,
   "metadata": {},
   "outputs": [
    {
     "name": "stdout",
     "output_type": "stream",
     "text": [
      "hey buddy\n",
      "what 's  up any prob?\n",
      "may be u look like\n"
     ]
    },
    {
     "data": {
      "text/plain": [
       "0"
      ]
     },
     "execution_count": 33,
     "metadata": {},
     "output_type": "execute_result"
    }
   ],
   "source": [
    "file = open('C:\\\\Users\\\\acer\\\\Desktop\\\\Mid Term\\\\Online Assessment\\\\TMC-404\\\\a.txt',\"r\")\n",
    "print(file.read())\n",
    "word= file.read()\n",
    "char ='k'\n",
    "count=0\n",
    "for i in word:\n",
    "    if(i==\"a\"):\n",
    "        count+=1\n",
    "count"
   ]
  },
  {
   "cell_type": "markdown",
   "metadata": {},
   "source": [
    "### Writing a file data into another file"
   ]
  },
  {
   "cell_type": "code",
   "execution_count": 30,
   "metadata": {},
   "outputs": [],
   "source": [
    "file1 = open('C:\\\\Users\\\\acer\\\\Desktop\\\\Mid Term\\\\Online Assessment\\\\TMC-404\\\\a.txt',\"r\")\n",
    "file2 = open('C:\\\\Users\\\\acer\\\\Desktop\\\\Mid Term\\\\Online Assessment\\\\TMC-404\\\\ab.txt',\"w\")\n",
    "for word in file1:\n",
    "    file2.write(word)\n"
   ]
  },
  {
   "cell_type": "code",
   "execution_count": null,
   "metadata": {},
   "outputs": [],
   "source": [
    "\n"
   ]
  },
  {
   "cell_type": "code",
   "execution_count": null,
   "metadata": {},
   "outputs": [],
   "source": []
  }
 ],
 "metadata": {
  "kernelspec": {
   "display_name": "Python 3",
   "language": "python",
   "name": "python3"
  },
  "language_info": {
   "codemirror_mode": {
    "name": "ipython",
    "version": 3
   },
   "file_extension": ".py",
   "mimetype": "text/x-python",
   "name": "python",
   "nbconvert_exporter": "python",
   "pygments_lexer": "ipython3",
   "version": "3.7.0"
  }
 },
 "nbformat": 4,
 "nbformat_minor": 4
}
