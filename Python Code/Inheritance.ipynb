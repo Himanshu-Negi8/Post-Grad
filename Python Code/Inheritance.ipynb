{
 "cells": [
  {
   "cell_type": "markdown",
   "metadata": {},
   "source": [
    "### Inheritance : "
   ]
  },
  {
   "cell_type": "code",
   "execution_count": 73,
   "metadata": {},
   "outputs": [
    {
     "name": "stdout",
     "output_type": "stream",
     "text": [
      "Choices : 1.Area of circle 2.Area of rectangle 3.Area of Traingle\n",
      "3\n",
      "1.RightAngle Triangle 2.Equilateral triangle 3.Scalene\n",
      "Enter triangle type:3\n",
      "enter sides : 12\n",
      "enter sides : 15\n",
      "enter sides : 20\n",
      "polygon type  triangle\n",
      "triangle is Shape Name\n",
      "89.66569856974293\n"
     ]
    }
   ],
   "source": [
    "import math\n",
    "\n",
    "class shape:\n",
    "    def __init__(self,shapeName):\n",
    "        print(shapeName,'is Shape Name')\n",
    "    \n",
    "class polygon(shape):\n",
    "    def __init__(self,polyType):\n",
    "        print(\"polygon type \",polyType)\n",
    "        super().__init__(polyType)\n",
    "    \n",
    "    \n",
    "class rectangle(polygon):\n",
    "    def __init__(self,l,w):\n",
    "        self.l=l\n",
    "        self.w =w\n",
    "        super().__init__(\"rectangle\")\n",
    "    def area(self):\n",
    "        return self.l*self.w\n",
    "\n",
    "class triangle(polygon):\n",
    "    def __init__(self,):\n",
    "        super().__init__(\"triangle\")\n",
    "\n",
    "    def right_area(self,height,base):\n",
    "        self.height=height\n",
    "        self.base = base\n",
    "        return (.5*self.height*self.base);\n",
    "    \n",
    "    def equi_area(self,side):\n",
    "        self.side=side\n",
    "        return (pow(self.side,2)*math.sqrt(3))/4\n",
    "    \n",
    "    def scalene_area(self,a,b,c):\n",
    "        self.a=a\n",
    "        self.b=b\n",
    "        self.c=c\n",
    "        s = (a+b+c)/2;\n",
    "        return math.sqrt(s*(s-a)*(s-b)*(s-c))\n",
    "    \n",
    "class circle(shape):\n",
    "    def __init__(self,r):\n",
    "        self.r=r\n",
    "        super().__init__(\"circle\")\n",
    "    def area(self):\n",
    "        return math.pi*pow(self.r,2)\n",
    "\n",
    "\n",
    "if __name__==\"__main__\":\n",
    "    \n",
    "    print(\"Choices : 1.Area of circle 2.Area of rectangle 3.Area of Traingle\")\n",
    "    \n",
    "    choice = int(input())\n",
    "    \n",
    "    if(choice==1):\n",
    "        radius =int(input(\"Enter Radius : \"))\n",
    "        obj = circle(radius)\n",
    "        print(obj.area())\n",
    "        \n",
    "    elif(choice==2):\n",
    "        l = int(input(\"length:\"))\n",
    "        w = int(input(\"width:\"))\n",
    "        obj = rectangle(l,w)\n",
    "        print(obj.area(),\"is the area\")\n",
    "    else:\n",
    "        print(\"1.RightAngle Triangle 2.Equilateral triangle 3.Scalene\")\n",
    "        type = int(input(\"Enter triangle type:\"))\n",
    "        \n",
    "        if type == 1:\n",
    "            height = int(input(\"enter height:\"))\n",
    "            base = int(input(\"enter base:\"))\n",
    "            obj = triangle();\n",
    "            print(obj.right_area(height,base),\"is the area\")\n",
    "            \n",
    "        elif type==2:\n",
    "            a = int(input(\"enter side:\"))\n",
    "            obj = triangle()\n",
    "            print(obj.equi_area(a))\n",
    "        elif type==3:\n",
    "            a = int(input(\"enter sides : \"))\n",
    "            b = int(input(\"enter sides : \"))\n",
    "            c = int(input(\"enter sides : \"))\n",
    "            \n",
    "            obj = triangle()\n",
    "            print(obj.scalene_area(a,b,c))\n",
    "            \n",
    "            \n",
    "    \n",
    "    \n",
    "    \n",
    "    \n"
   ]
  },
  {
   "cell_type": "markdown",
   "metadata": {},
   "source": []
  },
  {
   "cell_type": "code",
   "execution_count": null,
   "metadata": {},
   "outputs": [],
   "source": []
  },
  {
   "cell_type": "markdown",
   "metadata": {},
   "source": []
  },
  {
   "cell_type": "code",
   "execution_count": 30,
   "metadata": {},
   "outputs": [],
   "source": []
  },
  {
   "cell_type": "code",
   "execution_count": null,
   "metadata": {},
   "outputs": [],
   "source": [
    "\n"
   ]
  },
  {
   "cell_type": "code",
   "execution_count": null,
   "metadata": {},
   "outputs": [],
   "source": []
  }
 ],
 "metadata": {
  "kernelspec": {
   "display_name": "Python 3",
   "language": "python",
   "name": "python3"
  },
  "language_info": {
   "codemirror_mode": {
    "name": "ipython",
    "version": 3
   },
   "file_extension": ".py",
   "mimetype": "text/x-python",
   "name": "python",
   "nbconvert_exporter": "python",
   "pygments_lexer": "ipython3",
   "version": "3.7.0"
  }
 },
 "nbformat": 4,
 "nbformat_minor": 4
}
