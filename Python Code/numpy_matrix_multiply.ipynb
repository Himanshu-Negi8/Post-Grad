import numpy as np


print("enter row and col for matrices : ")
r = int(input())
c = int(input())


l1 =[]
l2 =[]

print("Elements for matrix 1: ")
for i in range(r):
  a = []
  for j in range(c):
    a.append(int(input()))
  l1.append(a)
  

print("Elements for matrix 2: ")
for i in range(r):
  a = []
  for j in range(c):
    a.append(int(input()))
  l2.append(a)

print("matrxi one is :",l1)
print("matrix two is :",l2)
print("\n")

l3 = np.dot(l1,l2);
print(l3)