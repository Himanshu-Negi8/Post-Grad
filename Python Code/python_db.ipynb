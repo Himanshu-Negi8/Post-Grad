{
 "cells": [
  {
   "cell_type": "markdown",
   "metadata": {},
   "source": [
    "### Version of Databse Connection checking"
   ]
  },
  {
   "cell_type": "code",
   "execution_count": 6,
   "metadata": {},
   "outputs": [
    {
     "name": "stdout",
     "output_type": "stream",
     "text": [
      "5.7.14\n",
      "('python',) Db is accessed\n",
      "Connection is closed\n"
     ]
    }
   ],
   "source": [
    "import mysql.connector\n",
    "from mysql.connector import Error\n",
    "\n",
    "try:\n",
    "    connection = mysql.connector.connect(host='127.0.0.1',\n",
    "                                        database ='python',\n",
    "                                        user='root',\n",
    "                                        password ='')\n",
    "    if connection.is_connected():\n",
    "        db_info = connection.get_server_info()\n",
    "        print(db_info)\n",
    "        cursor = connection.cursor()\n",
    "        cursor.execute(\"select database()\")\n",
    "\n",
    "        record = cursor.fetchone()\n",
    "        print(record,\"Db is accessed\")\n",
    "        \n",
    "except Error as e:\n",
    "    print(e)\n",
    "\n",
    "finally:\n",
    "    if connection.is_connected():\n",
    "        cursor.close()\n",
    "        connection.close()\n",
    "        print(\"Connection is closed\")\n"
   ]
  },
  {
   "cell_type": "markdown",
   "metadata": {},
   "source": [
    "### Creating tables"
   ]
  },
  {
   "cell_type": "code",
   "execution_count": 20,
   "metadata": {},
   "outputs": [],
   "source": [
    "import mysql.connector\n",
    "from mysql.connector import Error\n",
    "\n",
    "try:\n",
    "    mydb = mysql.connector.connect(host='127.0.0.1',\n",
    "                                        database ='python',\n",
    "                                        user='root',\n",
    "                                        password ='')\n",
    "\n",
    "    mycursor = mydb.cursor()\n",
    "\n",
    "    mycursor.execute(\"CREATE TABLE Hospital (Hospital_Id INT(6), Hospital_Name VARCHAR(60),Bed_Count INT(6))\")\n",
    "    mycursor.execute(\"CREATE TABLE Doctor (Doctor_Id INT(6),Doctor_Name VARCHAR(50),Hospital_id INTEGER, \\\n",
    "    FOREIGN KEY(Hospital_id) REFERENCES Hospital(Hospital_Id),\\\n",
    "    Joining_Date DATE,Speciality VARCHAR(50), Salary INT(6),Experience INT(2))\")\n",
    "    \n",
    "except Error as e:\n",
    "    print(e)\n",
    "        \n"
   ]
  },
  {
   "cell_type": "markdown",
   "metadata": {},
   "source": [
    "### Inserting values into tables"
   ]
  },
  {
   "cell_type": "code",
   "execution_count": 3,
   "metadata": {},
   "outputs": [
    {
     "name": "stdout",
     "output_type": "stream",
     "text": [
      "Enter hospital id:2\n",
      "Enter Hospital Name:AIIMS\n",
      "Enter the bed count:350\n",
      "Doctor id:2\n",
      "Doctor Name:Dr.Garg\n",
      "Hospital id:2\n",
      "Enter speciality:Cardiologist\n",
      "Enter salary:300000\n",
      "Enter exp:10\n",
      "1  values inserted successfully\n"
     ]
    }
   ],
   "source": [
    "import mysql.connector\n",
    "from mysql.connector import Error\n",
    "import time\n",
    "\n",
    "\n",
    "try:\n",
    "    mydb = mysql.connector.connect(host='127.0.0.1',\n",
    "                                        database ='python',\n",
    "                                        user='root',\n",
    "                                        password ='')\n",
    "\n",
    "    mycursor = mydb.cursor()\n",
    "    query = \"INSERT INTO Hospital (Hospital_Id, Hospital_Name, Bed_Count) VALUES (%s,%s,%s)\"\n",
    "    h_id = int(input(\"Enter hospital id:\"))\n",
    "    h_name=input(\"Enter Hospital Name:\")\n",
    "    b_count = int(input(\"Enter the bed count:\"))\n",
    "    val = (h_id,h_name,b_count)\n",
    "    mycursor.execute(query,val)\n",
    "    second_query = \"INSERT INTO Doctor (Doctor_Id,Doctor_Name,Hospital_Id,Joining_Date,Speciality,Salary,Experience)\\\n",
    "    VALUES(%s,%s,%s,%s,%s,%s,%s)\"\n",
    "    d_id = int(input(\"Doctor id:\"))\n",
    "    d_name = (input(\"Doctor Name:\"))\n",
    "    h_id = int(input(\"Hospital id:\"))\n",
    "    date= time.strftime('%Y-%m-%d')\n",
    "    speciality = input(\"Enter speciality:\")\n",
    "    salary = int(input(\"Enter salary:\"))\n",
    "    experience = int(input(\"Enter exp:\"))\n",
    "    info = (d_id,d_name,h_id,date,speciality,salary,experience)\n",
    "    mycursor.execute(second_query,info)\n",
    "    \n",
    "    mydb.commit()\n",
    "    print(mycursor.rowcount,\" values inserted successfully\")\n",
    "except Error as e:\n",
    "    print(e)\n",
    "    "
   ]
  },
  {
   "cell_type": "markdown",
   "metadata": {},
   "source": [
    "### Selecting the values"
   ]
  },
  {
   "cell_type": "code",
   "execution_count": 12,
   "metadata": {},
   "outputs": [
    {
     "name": "stdout",
     "output_type": "stream",
     "text": [
      "Hospitals Displayed:\n",
      "(1, 'Doon Hospital', 50)\n",
      "(2, 'AIIMS', 350)\n",
      "Doctors Displayed:\n",
      "(1, 'Jhon', 1, datetime.date(2020, 5, 21), 'Neurology', 250000, 10)\n",
      "(2, 'Dr.Garg', 2, datetime.date(2020, 5, 21), 'Cardiologist', 300000, 10)\n"
     ]
    }
   ],
   "source": [
    "import mysql.connector\n",
    "from mysql.connector import Error\n",
    "\n",
    "try:\n",
    "    con = mysql.connector.connect(host='127.0.0.1',\n",
    "                                        database ='python',\n",
    "                                        user='root',\n",
    "                                        password ='')\n",
    "\n",
    "    mycursor = con.cursor()\n",
    "    mycursor.execute(\"SELECT * FROM hospital\")\n",
    "    print(\"Hospitals Displayed:\")\n",
    "    result = mycursor.fetchall()\n",
    "    for x in result:\n",
    "        print(x)\n",
    "    \n",
    "    mycursor.execute(\"SELECT * FROM doctor\")\n",
    "    print(\"Doctors Displayed:\")\n",
    "    result = mycursor.fetchall()\n",
    "    for x in result:\n",
    "        print(x)\n",
    "\n",
    "    \n",
    "except Error as e:\n",
    "    print(e)"
   ]
  },
  {
   "cell_type": "markdown",
   "metadata": {},
   "source": [
    "### Doctor with neuorolgy speciality and all dr from hospital where hospital_id taken from user"
   ]
  },
  {
   "cell_type": "code",
   "execution_count": 56,
   "metadata": {},
   "outputs": [
    {
     "name": "stdout",
     "output_type": "stream",
     "text": [
      "Doctors with neurology speciality:\n",
      "(1, 'Jhon', 1, datetime.date(2020, 5, 21), 'Neurology', 250000, 10)\n",
      "Enter hospital id to list all doctors:2\n",
      "Doctors are:\n",
      "(2, 'Dr.Garg', 2, datetime.date(2020, 5, 21), 'Cardiologist', 300000, 10)\n"
     ]
    }
   ],
   "source": [
    "import mysql.connector\n",
    "from mysql.connector import Error\n",
    "\n",
    "try:\n",
    "    con = mysql.connector.connect(host='127.0.0.1',\n",
    "                                        database ='python',\n",
    "                                        user='root',\n",
    "                                        password ='')\n",
    "\n",
    "    mycursor = con.cursor()\n",
    "    \n",
    "    print(\"Doctors with neurology speciality:\")\n",
    "    mycursor.execute(\"SELECT * FROM doctor WHERE Speciality='Neurology'\")\n",
    "    result = mycursor.fetchall()\n",
    "    \n",
    "    for x in result:\n",
    "        print(x)\n",
    "    \n",
    "        \n",
    "    Hospital_id = int(input(\"Enter hospital id to list all doctors:\"))\n",
    "    \n",
    "    print(\"Doctors are:\")\n",
    "    mycursor.execute(\"SELECT * FROM doctor WHERE Hospital_id=%s\",(Hospital_id,))\n",
    "    result = mycursor.fetchall()\n",
    "    \n",
    "    for x in result:\n",
    "        print(x)\n",
    "    \n",
    "except Error as e:\n",
    "    \n",
    "    print(e)"
   ]
  },
  {
   "cell_type": "code",
   "execution_count": null,
   "metadata": {},
   "outputs": [],
   "source": []
  }
 ],
 "metadata": {
  "kernelspec": {
   "display_name": "Python 3",
   "language": "python",
   "name": "python3"
  },
  "language_info": {
   "codemirror_mode": {
    "name": "ipython",
    "version": 3
   },
   "file_extension": ".py",
   "mimetype": "text/x-python",
   "name": "python",
   "nbconvert_exporter": "python",
   "pygments_lexer": "ipython3",
   "version": "3.7.6"
  }
 },
 "nbformat": 4,
 "nbformat_minor": 4
}
