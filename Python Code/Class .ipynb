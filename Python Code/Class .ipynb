{
 "cells": [
  {
   "cell_type": "markdown",
   "metadata": {},
   "source": [
    "### Count Number of objects created"
   ]
  },
  {
   "cell_type": "code",
   "execution_count": 5,
   "metadata": {},
   "outputs": [
    {
     "name": "stdout",
     "output_type": "stream",
     "text": [
      "Hi james\n"
     ]
    },
    {
     "data": {
      "text/plain": [
       "3"
      ]
     },
     "execution_count": 5,
     "metadata": {},
     "output_type": "execute_result"
    }
   ],
   "source": [
    "class Student:\n",
    "    count=0\n",
    "    def __init__(self):\n",
    "        Student.count+=1\n",
    "        \n",
    "    def say(self,s):\n",
    "        print(\"Hi \"+s)\n",
    "        \n",
    "s = Student()\n",
    "p = Student()\n",
    "q = Student()\n",
    "s.say(\"james\")\n",
    "Student.count"
   ]
  },
  {
   "cell_type": "code",
   "execution_count": 45,
   "metadata": {},
   "outputs": [
    {
     "name": "stdout",
     "output_type": "stream",
     "text": [
      "James\t21\t460\t90\tPASS\t\n",
      "\n",
      "Jhon\t67\t390\t88\tPASS\t\n",
      "\n",
      "Doe\t12\t458\t80\tPASS\t\n",
      "\n",
      "Bunny\t23\t450\t70\tPASS\t\n",
      "\n"
     ]
    }
   ],
   "source": [
    "class Result:\n",
    "    total_marks=500\n",
    "    def __init__(self,name,roll_no,marks,percentage,result):\n",
    "        self.name =name\n",
    "        self.roll_no =roll_no\n",
    "        self.marks = marks\n",
    "        self.percentage = percentage\n",
    "        self.result = result\n",
    "        \n",
    "    def show(self):\n",
    "        \n",
    "        print(self.name,end=\"\\t\")\n",
    "        print(self.roll_no,end=\"\\t\")\n",
    "        print(Result.total_ma)\n",
    "        print(self.marks,end=\"\\t\")\n",
    "        print(self.percentage,end=\"\\t\")\n",
    "        print(self.result,end=\"\\t\")\n",
    "        print(\"\\n\")\n",
    "    \n",
    "def get_my_key(obj):\n",
    "        return obj.percentage\n",
    "        \n",
    "p = Result(\"Doe\",12,458,80,\"PASS\")\n",
    "q = Result(\"Bunny\",23,450,70,\"PASS\")\n",
    "r= Result(\"James\",21,460,90,\"PASS\")\n",
    "s=Result(\"Jhon\",67,390,88,\"PASS\")\n",
    "\n",
    "lob = [p,q,r,s] #lob stands for list of objects\n",
    "lob.sort(key=get_my_key,reverse=True)\n",
    "\n",
    "for x in lob:\n",
    "    x.show()\n",
    "\n",
    "        \n",
    "        \n",
    "    "
   ]
  },
  {
   "cell_type": "code",
   "execution_count": null,
   "metadata": {},
   "outputs": [],
   "source": []
  }
 ],
 "metadata": {
  "kernelspec": {
   "display_name": "Python 3",
   "language": "python",
   "name": "python3"
  },
  "language_info": {
   "codemirror_mode": {
    "name": "ipython",
    "version": 3
   },
   "file_extension": ".py",
   "mimetype": "text/x-python",
   "name": "python",
   "nbconvert_exporter": "python",
   "pygments_lexer": "ipython3",
   "version": "3.7.0"
  }
 },
 "nbformat": 4,
 "nbformat_minor": 4
}
